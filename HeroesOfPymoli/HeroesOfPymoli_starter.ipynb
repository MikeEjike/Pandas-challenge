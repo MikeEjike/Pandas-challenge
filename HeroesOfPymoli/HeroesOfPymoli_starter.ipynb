{
 "cells": [
  {
   "cell_type": "markdown",
   "metadata": {},
   "source": [
    "### Note\n",
    "* Instructions have been included for each segment. You do not have to follow them exactly, but they are included to help you think through the steps."
   ]
  },
  {
   "cell_type": "code",
   "execution_count": 1,
   "metadata": {},
   "outputs": [
    {
     "data": {
      "text/html": [
       "<div>\n",
       "<style scoped>\n",
       "    .dataframe tbody tr th:only-of-type {\n",
       "        vertical-align: middle;\n",
       "    }\n",
       "\n",
       "    .dataframe tbody tr th {\n",
       "        vertical-align: top;\n",
       "    }\n",
       "\n",
       "    .dataframe thead th {\n",
       "        text-align: right;\n",
       "    }\n",
       "</style>\n",
       "<table border=\"1\" class=\"dataframe\">\n",
       "  <thead>\n",
       "    <tr style=\"text-align: right;\">\n",
       "      <th></th>\n",
       "      <th>Purchase ID</th>\n",
       "      <th>SN</th>\n",
       "      <th>Age</th>\n",
       "      <th>Gender</th>\n",
       "      <th>Item ID</th>\n",
       "      <th>Item Name</th>\n",
       "      <th>Price</th>\n",
       "    </tr>\n",
       "  </thead>\n",
       "  <tbody>\n",
       "    <tr>\n",
       "      <th>0</th>\n",
       "      <td>0</td>\n",
       "      <td>Lisim78</td>\n",
       "      <td>20</td>\n",
       "      <td>Male</td>\n",
       "      <td>108</td>\n",
       "      <td>Extraction, Quickblade Of Trembling Hands</td>\n",
       "      <td>3.53</td>\n",
       "    </tr>\n",
       "    <tr>\n",
       "      <th>1</th>\n",
       "      <td>1</td>\n",
       "      <td>Lisovynya38</td>\n",
       "      <td>40</td>\n",
       "      <td>Male</td>\n",
       "      <td>143</td>\n",
       "      <td>Frenzied Scimitar</td>\n",
       "      <td>1.56</td>\n",
       "    </tr>\n",
       "    <tr>\n",
       "      <th>2</th>\n",
       "      <td>2</td>\n",
       "      <td>Ithergue48</td>\n",
       "      <td>24</td>\n",
       "      <td>Male</td>\n",
       "      <td>92</td>\n",
       "      <td>Final Critic</td>\n",
       "      <td>4.88</td>\n",
       "    </tr>\n",
       "    <tr>\n",
       "      <th>3</th>\n",
       "      <td>3</td>\n",
       "      <td>Chamassasya86</td>\n",
       "      <td>24</td>\n",
       "      <td>Male</td>\n",
       "      <td>100</td>\n",
       "      <td>Blindscythe</td>\n",
       "      <td>3.27</td>\n",
       "    </tr>\n",
       "    <tr>\n",
       "      <th>4</th>\n",
       "      <td>4</td>\n",
       "      <td>Iskosia90</td>\n",
       "      <td>23</td>\n",
       "      <td>Male</td>\n",
       "      <td>131</td>\n",
       "      <td>Fury</td>\n",
       "      <td>1.44</td>\n",
       "    </tr>\n",
       "  </tbody>\n",
       "</table>\n",
       "</div>"
      ],
      "text/plain": [
       "   Purchase ID             SN  Age Gender  Item ID  \\\n",
       "0            0        Lisim78   20   Male      108   \n",
       "1            1    Lisovynya38   40   Male      143   \n",
       "2            2     Ithergue48   24   Male       92   \n",
       "3            3  Chamassasya86   24   Male      100   \n",
       "4            4      Iskosia90   23   Male      131   \n",
       "\n",
       "                                   Item Name  Price  \n",
       "0  Extraction, Quickblade Of Trembling Hands   3.53  \n",
       "1                          Frenzied Scimitar   1.56  \n",
       "2                               Final Critic   4.88  \n",
       "3                                Blindscythe   3.27  \n",
       "4                                       Fury   1.44  "
      ]
     },
     "execution_count": 1,
     "metadata": {},
     "output_type": "execute_result"
    }
   ],
   "source": [
    "# Dependencies and Setup\n",
    "import pandas as pd\n",
    "\n",
    "# File to Load (Remember to Change These)\n",
    "file_to_load = \"Resources/purchase_data.csv\"\n",
    "\n",
    "# Read Purchasing File and store into Pandas data frame\n",
    "purchase_data = pd.read_csv(file_to_load)\n",
    "purchase_data_nodup = pd.read_csv(file_to_load)\n",
    "purchase_data.head()"
   ]
  },
  {
   "cell_type": "markdown",
   "metadata": {},
   "source": [
    "## Player Count"
   ]
  },
  {
   "cell_type": "markdown",
   "metadata": {},
   "source": [
    "* Display the total number of players\n"
   ]
  },
  {
   "cell_type": "code",
   "execution_count": 2,
   "metadata": {},
   "outputs": [
    {
     "data": {
      "text/html": [
       "<div>\n",
       "<style scoped>\n",
       "    .dataframe tbody tr th:only-of-type {\n",
       "        vertical-align: middle;\n",
       "    }\n",
       "\n",
       "    .dataframe tbody tr th {\n",
       "        vertical-align: top;\n",
       "    }\n",
       "\n",
       "    .dataframe thead th {\n",
       "        text-align: right;\n",
       "    }\n",
       "</style>\n",
       "<table border=\"1\" class=\"dataframe\">\n",
       "  <thead>\n",
       "    <tr style=\"text-align: right;\">\n",
       "      <th></th>\n",
       "      <th>Total Players</th>\n",
       "    </tr>\n",
       "  </thead>\n",
       "  <tbody>\n",
       "    <tr>\n",
       "      <th>0</th>\n",
       "      <td>576</td>\n",
       "    </tr>\n",
       "  </tbody>\n",
       "</table>\n",
       "</div>"
      ],
      "text/plain": [
       "   Total Players\n",
       "0            576"
      ]
     },
     "execution_count": 2,
     "metadata": {},
     "output_type": "execute_result"
    }
   ],
   "source": [
    "purchase_data[\"Total Players\"] = purchase_data[\"SN\"].nunique()\n",
    "player_data = purchase_data[[\"Total Players\"]]\n",
    "player_data.head(1)"
   ]
  },
  {
   "cell_type": "markdown",
   "metadata": {},
   "source": [
    "## Purchasing Analysis (Total)"
   ]
  },
  {
   "cell_type": "markdown",
   "metadata": {},
   "source": [
    "* Run basic calculations to obtain number of unique items, average price, etc.\n",
    "\n",
    "\n",
    "* Create a summary data frame to hold the results\n",
    "\n",
    "\n",
    "* Optional: give the displayed data cleaner formatting\n",
    "\n",
    "\n",
    "* Display the summary data frame\n"
   ]
  },
  {
   "cell_type": "code",
   "execution_count": 3,
   "metadata": {
    "scrolled": false
   },
   "outputs": [
    {
     "data": {
      "text/html": [
       "<style  type=\"text/css\" >\n",
       "</style><table id=\"T_8d774456_0df7_11eb_9dd7_84bad642171d\" ><thead>    <tr>        <th class=\"blank level0\" ></th>        <th class=\"col_heading level0 col0\" >Number of Unique Items</th>        <th class=\"col_heading level0 col1\" >Average Price</th>        <th class=\"col_heading level0 col2\" >Number of Purchases</th>        <th class=\"col_heading level0 col3\" >Total Revenue</th>    </tr></thead><tbody>\n",
       "                <tr>\n",
       "                        <th id=\"T_8d774456_0df7_11eb_9dd7_84bad642171dlevel0_row0\" class=\"row_heading level0 row0\" >0</th>\n",
       "                        <td id=\"T_8d774456_0df7_11eb_9dd7_84bad642171drow0_col0\" class=\"data row0 col0\" >179</td>\n",
       "                        <td id=\"T_8d774456_0df7_11eb_9dd7_84bad642171drow0_col1\" class=\"data row0 col1\" >$3.05</td>\n",
       "                        <td id=\"T_8d774456_0df7_11eb_9dd7_84bad642171drow0_col2\" class=\"data row0 col2\" >780</td>\n",
       "                        <td id=\"T_8d774456_0df7_11eb_9dd7_84bad642171drow0_col3\" class=\"data row0 col3\" >$2,379.77</td>\n",
       "            </tr>\n",
       "    </tbody></table>"
      ],
      "text/plain": [
       "<pandas.io.formats.style.Styler at 0x2b3f28780d0>"
      ]
     },
     "execution_count": 3,
     "metadata": {},
     "output_type": "execute_result"
    }
   ],
   "source": [
    "# purchase_data.nunique()\n",
    "number_of_unique_items = purchase_data[\"Item Name\"].nunique()\n",
    "average_price = purchase_data[\"Price\"].mean()\n",
    "\n",
    "# average_price.style.format('${0:,.2f}')\n",
    "number_of_purchases = purchase_data[\"Purchase ID\"].count()\n",
    "total_revenue = purchase_data[\"Price\"].sum()\n",
    "\n",
    "purchasing_analysis_total = pd.DataFrame({\"Number of Unique Items\": [number_of_unique_items],\n",
    "                                          \"Average Price\": [average_price],\n",
    "                                          \"Number of Purchases\": [number_of_purchases],\n",
    "                                          \"Total Revenue\": [total_revenue]})\n",
    "purchasing_analysis_total.style.format({\"Average Price\": '${0:,.2f}' , \"Total Revenue\": '${0:,.2f}'})  \n",
    "\n"
   ]
  },
  {
   "cell_type": "markdown",
   "metadata": {},
   "source": [
    "## Gender Demographics"
   ]
  },
  {
   "cell_type": "markdown",
   "metadata": {},
   "source": [
    "* Percentage and Count of Male Players\n",
    "\n",
    "\n",
    "* Percentage and Count of Female Players\n",
    "\n",
    "\n",
    "* Percentage and Count of Other / Non-Disclosed\n",
    "\n",
    "\n"
   ]
  },
  {
   "cell_type": "code",
   "execution_count": 4,
   "metadata": {},
   "outputs": [
    {
     "data": {
      "text/html": [
       "<style  type=\"text/css\" >\n",
       "</style><table id=\"T_8d7a5117_0df7_11eb_ac01_84bad642171d\" ><thead>    <tr>        <th class=\"blank level0\" ></th>        <th class=\"col_heading level0 col0\" >Total Count</th>        <th class=\"col_heading level0 col1\" >Percentage of Player</th>    </tr>    <tr>        <th class=\"index_name level0\" ></th>        <th class=\"blank\" ></th>        <th class=\"blank\" ></th>    </tr></thead><tbody>\n",
       "                <tr>\n",
       "                        <th id=\"T_8d7a5117_0df7_11eb_ac01_84bad642171dlevel0_row0\" class=\"row_heading level0 row0\" >Male</th>\n",
       "                        <td id=\"T_8d7a5117_0df7_11eb_ac01_84bad642171drow0_col0\" class=\"data row0 col0\" >484</td>\n",
       "                        <td id=\"T_8d7a5117_0df7_11eb_ac01_84bad642171drow0_col1\" class=\"data row0 col1\" >84.03%</td>\n",
       "            </tr>\n",
       "            <tr>\n",
       "                        <th id=\"T_8d7a5117_0df7_11eb_ac01_84bad642171dlevel0_row1\" class=\"row_heading level0 row1\" >Female</th>\n",
       "                        <td id=\"T_8d7a5117_0df7_11eb_ac01_84bad642171drow1_col0\" class=\"data row1 col0\" >81</td>\n",
       "                        <td id=\"T_8d7a5117_0df7_11eb_ac01_84bad642171drow1_col1\" class=\"data row1 col1\" >14.06%</td>\n",
       "            </tr>\n",
       "            <tr>\n",
       "                        <th id=\"T_8d7a5117_0df7_11eb_ac01_84bad642171dlevel0_row2\" class=\"row_heading level0 row2\" >Other / Non-Disclosed</th>\n",
       "                        <td id=\"T_8d7a5117_0df7_11eb_ac01_84bad642171drow2_col0\" class=\"data row2 col0\" >11</td>\n",
       "                        <td id=\"T_8d7a5117_0df7_11eb_ac01_84bad642171drow2_col1\" class=\"data row2 col1\" >1.91%</td>\n",
       "            </tr>\n",
       "    </tbody></table>"
      ],
      "text/plain": [
       "<pandas.io.formats.style.Styler at 0x2b3f594cc40>"
      ]
     },
     "execution_count": 4,
     "metadata": {},
     "output_type": "execute_result"
    }
   ],
   "source": [
    "purchase_data_nodup.drop_duplicates(subset =\"SN\", keep = 'first', inplace = True)\n",
    "purchase_gender_nodup = purchase_data_nodup.pivot_table(index = ['Gender'], aggfunc ='size')\n",
    "\n",
    "purchase_gender = purchase_data.pivot_table(index = ['Gender'], aggfunc ='size')\n",
    "\n",
    "male = purchase_gender_nodup['Male']\n",
    "female = purchase_gender_nodup['Female']\n",
    "other = purchase_gender_nodup['Other / Non-Disclosed']\n",
    "total_player = male + female + other\n",
    "\n",
    "\n",
    "\n",
    "gender_demo = pd.DataFrame({'': ['Male','Female','Other / Non-Disclosed'],'Total Count': [male, female, other], \n",
    "                            'Percentage of Player': [male/total_player*100, female/total_player*100, other/total_player*100]})\n",
    "gender_demo.set_index(['']).style.format({\"Percentage of Player\": '{0:,.2f}%'})\n"
   ]
  },
  {
   "cell_type": "markdown",
   "metadata": {},
   "source": [
    "\n",
    "## Purchasing Analysis (Gender)"
   ]
  },
  {
   "cell_type": "markdown",
   "metadata": {},
   "source": [
    "* Run basic calculations to obtain purchase count, avg. purchase price, avg. purchase total per person etc. by gender\n",
    "\n",
    "\n",
    "\n",
    "\n",
    "* Create a summary data frame to hold the results\n",
    "\n",
    "\n",
    "* Optional: give the displayed data cleaner formatting\n",
    "\n",
    "\n",
    "* Display the summary data frame"
   ]
  },
  {
   "cell_type": "code",
   "execution_count": 5,
   "metadata": {},
   "outputs": [
    {
     "data": {
      "text/html": [
       "<style  type=\"text/css\" >\n",
       "</style><table id=\"T_8dc166a6_0df7_11eb_aee4_84bad642171d\" ><thead>    <tr>        <th class=\"blank level0\" ></th>        <th class=\"col_heading level0 col0\" >Purchase Count</th>        <th class=\"col_heading level0 col1\" >Average Purchase Price</th>        <th class=\"col_heading level0 col2\" >Total Purchase Value</th>        <th class=\"col_heading level0 col3\" >Avg Total Purchase per Person</th>    </tr>    <tr>        <th class=\"index_name level0\" >Gender</th>        <th class=\"blank\" ></th>        <th class=\"blank\" ></th>        <th class=\"blank\" ></th>        <th class=\"blank\" ></th>    </tr></thead><tbody>\n",
       "                <tr>\n",
       "                        <th id=\"T_8dc166a6_0df7_11eb_aee4_84bad642171dlevel0_row0\" class=\"row_heading level0 row0\" >Male</th>\n",
       "                        <td id=\"T_8dc166a6_0df7_11eb_aee4_84bad642171drow0_col0\" class=\"data row0 col0\" >652</td>\n",
       "                        <td id=\"T_8dc166a6_0df7_11eb_aee4_84bad642171drow0_col1\" class=\"data row0 col1\" >$3.02</td>\n",
       "                        <td id=\"T_8dc166a6_0df7_11eb_aee4_84bad642171drow0_col2\" class=\"data row0 col2\" >$1,967.64</td>\n",
       "                        <td id=\"T_8dc166a6_0df7_11eb_aee4_84bad642171drow0_col3\" class=\"data row0 col3\" >$4.07</td>\n",
       "            </tr>\n",
       "            <tr>\n",
       "                        <th id=\"T_8dc166a6_0df7_11eb_aee4_84bad642171dlevel0_row1\" class=\"row_heading level0 row1\" >Female</th>\n",
       "                        <td id=\"T_8dc166a6_0df7_11eb_aee4_84bad642171drow1_col0\" class=\"data row1 col0\" >113</td>\n",
       "                        <td id=\"T_8dc166a6_0df7_11eb_aee4_84bad642171drow1_col1\" class=\"data row1 col1\" >$3.20</td>\n",
       "                        <td id=\"T_8dc166a6_0df7_11eb_aee4_84bad642171drow1_col2\" class=\"data row1 col2\" >$361.94</td>\n",
       "                        <td id=\"T_8dc166a6_0df7_11eb_aee4_84bad642171drow1_col3\" class=\"data row1 col3\" >$4.47</td>\n",
       "            </tr>\n",
       "            <tr>\n",
       "                        <th id=\"T_8dc166a6_0df7_11eb_aee4_84bad642171dlevel0_row2\" class=\"row_heading level0 row2\" >Other / Non-Disclosed</th>\n",
       "                        <td id=\"T_8dc166a6_0df7_11eb_aee4_84bad642171drow2_col0\" class=\"data row2 col0\" >15</td>\n",
       "                        <td id=\"T_8dc166a6_0df7_11eb_aee4_84bad642171drow2_col1\" class=\"data row2 col1\" >$3.35</td>\n",
       "                        <td id=\"T_8dc166a6_0df7_11eb_aee4_84bad642171drow2_col2\" class=\"data row2 col2\" >$50.19</td>\n",
       "                        <td id=\"T_8dc166a6_0df7_11eb_aee4_84bad642171drow2_col3\" class=\"data row2 col3\" >$4.56</td>\n",
       "            </tr>\n",
       "    </tbody></table>"
      ],
      "text/plain": [
       "<pandas.io.formats.style.Styler at 0x2b3f598e7c0>"
      ]
     },
     "execution_count": 5,
     "metadata": {},
     "output_type": "execute_result"
    }
   ],
   "source": [
    "male_purchase_count = purchase_gender['Male']\n",
    "female_purchase_count = purchase_gender['Female']\n",
    "other_purchase_count = purchase_gender['Other / Non-Disclosed']\n",
    "total_purchase_count = male_purchase_count + female_purchase_count + other_purchase_count\n",
    "\n",
    "male_price = purchase_data.loc[purchase_data['Gender'] == 'Male', 'Price']\n",
    "female_price = purchase_data.loc[purchase_data['Gender'] == 'Female', 'Price']\n",
    "other_price = purchase_data.loc[purchase_data['Gender'] == 'Other / Non-Disclosed', 'Price']\n",
    "total_price = male_price + female_price + other_price\n",
    "\n",
    "avg_price_male = male_price.sum() / male_purchase_count\n",
    "avg_price_female = female_price.sum() / female_purchase_count\n",
    "avg_price_other = other_price.sum() / other_purchase_count\n",
    "\n",
    "avg_purchase_per_male = male_price.sum() / male\n",
    "avg_purchase_per_female = female_price.sum() / female\n",
    "avg_purchase_per_other = other_price.sum() / other\n",
    "\n",
    "purchasing_analysis_gender = pd.DataFrame({'Gender': ['Male','Female','Other / Non-Disclosed'],\n",
    "                                           'Purchase Count': [male_purchase_count, female_purchase_count, other_purchase_count], \n",
    "                                           'Average Purchase Price': [avg_price_male, avg_price_female, avg_price_other], \n",
    "                                           'Total Purchase Value': [male_price.sum(), female_price.sum(), other_price.sum()],\n",
    "                                           'Avg Total Purchase per Person': [avg_purchase_per_male, avg_purchase_per_female, avg_purchase_per_other]})\n",
    "\n",
    "purchasing_analysis_gender.set_index(['Gender']).style.format({\"Average Purchase Price\": '${0:,.2f}', \n",
    "                                         \"Total Purchase Value\": '${0:,.2f}', \n",
    "                                         \"Avg Total Purchase per Person\": '${0:,.2f}'}) "
   ]
  },
  {
   "cell_type": "markdown",
   "metadata": {},
   "source": [
    "## Age Demographics"
   ]
  },
  {
   "cell_type": "markdown",
   "metadata": {},
   "source": [
    "* Establish bins for ages\n",
    "\n",
    "\n",
    "* Categorize the existing players using the age bins. Hint: use pd.cut()\n",
    "\n",
    "\n",
    "* Calculate the numbers and percentages by age group\n",
    "\n",
    "\n",
    "* Create a summary data frame to hold the results\n",
    "\n",
    "\n",
    "* Optional: round the percentage column to two decimal points\n",
    "\n",
    "\n",
    "* Display Age Demographics Table\n"
   ]
  },
  {
   "cell_type": "code",
   "execution_count": 6,
   "metadata": {},
   "outputs": [
    {
     "data": {
      "text/html": [
       "<style  type=\"text/css\" >\n",
       "</style><table id=\"T_8e11f7fa_0df7_11eb_9928_84bad642171d\" ><thead>    <tr>        <th class=\"blank level0\" ></th>        <th class=\"col_heading level0 col0\" >Total Count</th>        <th class=\"col_heading level0 col1\" >Percentage of Players</th>    </tr>    <tr>        <th class=\"index_name level0\" > </th>        <th class=\"blank\" ></th>        <th class=\"blank\" ></th>    </tr></thead><tbody>\n",
       "                <tr>\n",
       "                        <th id=\"T_8e11f7fa_0df7_11eb_9928_84bad642171dlevel0_row0\" class=\"row_heading level0 row0\" ><10</th>\n",
       "                        <td id=\"T_8e11f7fa_0df7_11eb_9928_84bad642171drow0_col0\" class=\"data row0 col0\" >17</td>\n",
       "                        <td id=\"T_8e11f7fa_0df7_11eb_9928_84bad642171drow0_col1\" class=\"data row0 col1\" >2.95%</td>\n",
       "            </tr>\n",
       "            <tr>\n",
       "                        <th id=\"T_8e11f7fa_0df7_11eb_9928_84bad642171dlevel0_row1\" class=\"row_heading level0 row1\" >10-14</th>\n",
       "                        <td id=\"T_8e11f7fa_0df7_11eb_9928_84bad642171drow1_col0\" class=\"data row1 col0\" >22</td>\n",
       "                        <td id=\"T_8e11f7fa_0df7_11eb_9928_84bad642171drow1_col1\" class=\"data row1 col1\" >3.82%</td>\n",
       "            </tr>\n",
       "            <tr>\n",
       "                        <th id=\"T_8e11f7fa_0df7_11eb_9928_84bad642171dlevel0_row2\" class=\"row_heading level0 row2\" >15-19</th>\n",
       "                        <td id=\"T_8e11f7fa_0df7_11eb_9928_84bad642171drow2_col0\" class=\"data row2 col0\" >107</td>\n",
       "                        <td id=\"T_8e11f7fa_0df7_11eb_9928_84bad642171drow2_col1\" class=\"data row2 col1\" >18.58%</td>\n",
       "            </tr>\n",
       "            <tr>\n",
       "                        <th id=\"T_8e11f7fa_0df7_11eb_9928_84bad642171dlevel0_row3\" class=\"row_heading level0 row3\" >20-24</th>\n",
       "                        <td id=\"T_8e11f7fa_0df7_11eb_9928_84bad642171drow3_col0\" class=\"data row3 col0\" >258</td>\n",
       "                        <td id=\"T_8e11f7fa_0df7_11eb_9928_84bad642171drow3_col1\" class=\"data row3 col1\" >44.79%</td>\n",
       "            </tr>\n",
       "            <tr>\n",
       "                        <th id=\"T_8e11f7fa_0df7_11eb_9928_84bad642171dlevel0_row4\" class=\"row_heading level0 row4\" >25-29</th>\n",
       "                        <td id=\"T_8e11f7fa_0df7_11eb_9928_84bad642171drow4_col0\" class=\"data row4 col0\" >77</td>\n",
       "                        <td id=\"T_8e11f7fa_0df7_11eb_9928_84bad642171drow4_col1\" class=\"data row4 col1\" >13.37%</td>\n",
       "            </tr>\n",
       "            <tr>\n",
       "                        <th id=\"T_8e11f7fa_0df7_11eb_9928_84bad642171dlevel0_row5\" class=\"row_heading level0 row5\" >30-34</th>\n",
       "                        <td id=\"T_8e11f7fa_0df7_11eb_9928_84bad642171drow5_col0\" class=\"data row5 col0\" >52</td>\n",
       "                        <td id=\"T_8e11f7fa_0df7_11eb_9928_84bad642171drow5_col1\" class=\"data row5 col1\" >9.03%</td>\n",
       "            </tr>\n",
       "            <tr>\n",
       "                        <th id=\"T_8e11f7fa_0df7_11eb_9928_84bad642171dlevel0_row6\" class=\"row_heading level0 row6\" >35-39</th>\n",
       "                        <td id=\"T_8e11f7fa_0df7_11eb_9928_84bad642171drow6_col0\" class=\"data row6 col0\" >31</td>\n",
       "                        <td id=\"T_8e11f7fa_0df7_11eb_9928_84bad642171drow6_col1\" class=\"data row6 col1\" >5.38%</td>\n",
       "            </tr>\n",
       "            <tr>\n",
       "                        <th id=\"T_8e11f7fa_0df7_11eb_9928_84bad642171dlevel0_row7\" class=\"row_heading level0 row7\" >40+</th>\n",
       "                        <td id=\"T_8e11f7fa_0df7_11eb_9928_84bad642171drow7_col0\" class=\"data row7 col0\" >12</td>\n",
       "                        <td id=\"T_8e11f7fa_0df7_11eb_9928_84bad642171drow7_col1\" class=\"data row7 col1\" >2.08%</td>\n",
       "            </tr>\n",
       "    </tbody></table>"
      ],
      "text/plain": [
       "<pandas.io.formats.style.Styler at 0x2b3f5b079a0>"
      ]
     },
     "execution_count": 6,
     "metadata": {},
     "output_type": "execute_result"
    }
   ],
   "source": [
    "bins = [0, 9, 14, 19, 24, 29, 34, 39, 200]\n",
    "\n",
    "group_names = ['<10', '10-14', '15-19', '20-24', '25-29', '30-34', '35-39', '40+']\n",
    "\n",
    "count1_nodup = sum(age < 10 for age in purchase_data_nodup['Age'])\n",
    "count2_nodup = sum((age >= 10) & (age <=14) for age in purchase_data_nodup['Age'])\n",
    "count3_nodup = sum((age >= 15) & (age <=19) for age in purchase_data_nodup['Age'])\n",
    "count4_nodup = sum((age >= 20) & (age <=24) for age in purchase_data_nodup['Age'])\n",
    "count5_nodup = sum((age >= 25) & (age <=29) for age in purchase_data_nodup['Age'])\n",
    "count6_nodup = sum((age >= 30) & (age <=34) for age in purchase_data_nodup['Age'])\n",
    "count7_nodup = sum((age >= 35) & (age <=39) for age in purchase_data_nodup['Age'])\n",
    "count8_nodup = sum(age >= 40 for age in purchase_data_nodup['Age'])\n",
    "length = len(purchase_data_nodup['Age'])\n",
    "    \n",
    "age_demo = pd.DataFrame({' ': group_names, 'Total Count': [count1_nodup, count2_nodup, count3_nodup, count4_nodup, count5_nodup, count6_nodup, count7_nodup, count8_nodup], \n",
    "                         'Percentage of Players':[(count1_nodup/length)*100,\n",
    "                                                   (count2_nodup/length)*100, \n",
    "                                                   (count3_nodup/length)*100, \n",
    "                                                   (count4_nodup/length)*100, \n",
    "                                                   (count5_nodup/length)*100, \n",
    "                                                   (count6_nodup/length)*100, \n",
    "                                                   (count7_nodup/length)*100, \n",
    "                                                   (count8_nodup/length)*100]})\n",
    "\n",
    "# age_demo[\" \"] = pd.cut(age_demo['Total Count'], bins, labels=group_names, include_lowest=True,)\n",
    "age_demo.set_index(' ').style.format({'Percentage of Players':'{0:,.2f}%'})\n"
   ]
  },
  {
   "cell_type": "markdown",
   "metadata": {},
   "source": [
    "## Purchasing Analysis (Age)"
   ]
  },
  {
   "cell_type": "markdown",
   "metadata": {},
   "source": [
    "* Bin the purchase_data data frame by age\n",
    "\n",
    "\n",
    "* Run basic calculations to obtain purchase count, avg. purchase price, avg. purchase total per person etc. in the table below\n",
    "\n",
    "\n",
    "* Create a summary data frame to hold the results\n",
    "\n",
    "\n",
    "* Optional: give the displayed data cleaner formatting\n",
    "\n",
    "\n",
    "* Display the summary data frame"
   ]
  },
  {
   "cell_type": "code",
   "execution_count": 7,
   "metadata": {},
   "outputs": [
    {
     "data": {
      "text/html": [
       "<style  type=\"text/css\" >\n",
       "</style><table id=\"T_8e9ad14a_0df7_11eb_a1dd_84bad642171d\" ><thead>    <tr>        <th class=\"blank level0\" ></th>        <th class=\"col_heading level0 col0\" >Purchase Count</th>        <th class=\"col_heading level0 col1\" >Average Purchase Price</th>        <th class=\"col_heading level0 col2\" >Total Purchase Value</th>        <th class=\"col_heading level0 col3\" >Avg Total Purchase per Person</th>    </tr>    <tr>        <th class=\"index_name level0\" >Age Ranges</th>        <th class=\"blank\" ></th>        <th class=\"blank\" ></th>        <th class=\"blank\" ></th>        <th class=\"blank\" ></th>    </tr></thead><tbody>\n",
       "                <tr>\n",
       "                        <th id=\"T_8e9ad14a_0df7_11eb_a1dd_84bad642171dlevel0_row0\" class=\"row_heading level0 row0\" ><10</th>\n",
       "                        <td id=\"T_8e9ad14a_0df7_11eb_a1dd_84bad642171drow0_col0\" class=\"data row0 col0\" >23</td>\n",
       "                        <td id=\"T_8e9ad14a_0df7_11eb_a1dd_84bad642171drow0_col1\" class=\"data row0 col1\" >$3.35</td>\n",
       "                        <td id=\"T_8e9ad14a_0df7_11eb_a1dd_84bad642171drow0_col2\" class=\"data row0 col2\" >$77.13</td>\n",
       "                        <td id=\"T_8e9ad14a_0df7_11eb_a1dd_84bad642171drow0_col3\" class=\"data row0 col3\" >$4.54</td>\n",
       "            </tr>\n",
       "            <tr>\n",
       "                        <th id=\"T_8e9ad14a_0df7_11eb_a1dd_84bad642171dlevel0_row1\" class=\"row_heading level0 row1\" >10-14</th>\n",
       "                        <td id=\"T_8e9ad14a_0df7_11eb_a1dd_84bad642171drow1_col0\" class=\"data row1 col0\" >28</td>\n",
       "                        <td id=\"T_8e9ad14a_0df7_11eb_a1dd_84bad642171drow1_col1\" class=\"data row1 col1\" >$2.96</td>\n",
       "                        <td id=\"T_8e9ad14a_0df7_11eb_a1dd_84bad642171drow1_col2\" class=\"data row1 col2\" >$82.78</td>\n",
       "                        <td id=\"T_8e9ad14a_0df7_11eb_a1dd_84bad642171drow1_col3\" class=\"data row1 col3\" >$3.76</td>\n",
       "            </tr>\n",
       "            <tr>\n",
       "                        <th id=\"T_8e9ad14a_0df7_11eb_a1dd_84bad642171dlevel0_row2\" class=\"row_heading level0 row2\" >15-19</th>\n",
       "                        <td id=\"T_8e9ad14a_0df7_11eb_a1dd_84bad642171drow2_col0\" class=\"data row2 col0\" >136</td>\n",
       "                        <td id=\"T_8e9ad14a_0df7_11eb_a1dd_84bad642171drow2_col1\" class=\"data row2 col1\" >$3.04</td>\n",
       "                        <td id=\"T_8e9ad14a_0df7_11eb_a1dd_84bad642171drow2_col2\" class=\"data row2 col2\" >$412.89</td>\n",
       "                        <td id=\"T_8e9ad14a_0df7_11eb_a1dd_84bad642171drow2_col3\" class=\"data row2 col3\" >$3.86</td>\n",
       "            </tr>\n",
       "            <tr>\n",
       "                        <th id=\"T_8e9ad14a_0df7_11eb_a1dd_84bad642171dlevel0_row3\" class=\"row_heading level0 row3\" >20-24</th>\n",
       "                        <td id=\"T_8e9ad14a_0df7_11eb_a1dd_84bad642171drow3_col0\" class=\"data row3 col0\" >365</td>\n",
       "                        <td id=\"T_8e9ad14a_0df7_11eb_a1dd_84bad642171drow3_col1\" class=\"data row3 col1\" >$3.05</td>\n",
       "                        <td id=\"T_8e9ad14a_0df7_11eb_a1dd_84bad642171drow3_col2\" class=\"data row3 col2\" >$1,114.06</td>\n",
       "                        <td id=\"T_8e9ad14a_0df7_11eb_a1dd_84bad642171drow3_col3\" class=\"data row3 col3\" >$4.32</td>\n",
       "            </tr>\n",
       "            <tr>\n",
       "                        <th id=\"T_8e9ad14a_0df7_11eb_a1dd_84bad642171dlevel0_row4\" class=\"row_heading level0 row4\" >25-29</th>\n",
       "                        <td id=\"T_8e9ad14a_0df7_11eb_a1dd_84bad642171drow4_col0\" class=\"data row4 col0\" >101</td>\n",
       "                        <td id=\"T_8e9ad14a_0df7_11eb_a1dd_84bad642171drow4_col1\" class=\"data row4 col1\" >$2.90</td>\n",
       "                        <td id=\"T_8e9ad14a_0df7_11eb_a1dd_84bad642171drow4_col2\" class=\"data row4 col2\" >$293.00</td>\n",
       "                        <td id=\"T_8e9ad14a_0df7_11eb_a1dd_84bad642171drow4_col3\" class=\"data row4 col3\" >$3.81</td>\n",
       "            </tr>\n",
       "            <tr>\n",
       "                        <th id=\"T_8e9ad14a_0df7_11eb_a1dd_84bad642171dlevel0_row5\" class=\"row_heading level0 row5\" >30-34</th>\n",
       "                        <td id=\"T_8e9ad14a_0df7_11eb_a1dd_84bad642171drow5_col0\" class=\"data row5 col0\" >73</td>\n",
       "                        <td id=\"T_8e9ad14a_0df7_11eb_a1dd_84bad642171drow5_col1\" class=\"data row5 col1\" >$2.93</td>\n",
       "                        <td id=\"T_8e9ad14a_0df7_11eb_a1dd_84bad642171drow5_col2\" class=\"data row5 col2\" >$214.00</td>\n",
       "                        <td id=\"T_8e9ad14a_0df7_11eb_a1dd_84bad642171drow5_col3\" class=\"data row5 col3\" >$4.12</td>\n",
       "            </tr>\n",
       "            <tr>\n",
       "                        <th id=\"T_8e9ad14a_0df7_11eb_a1dd_84bad642171dlevel0_row6\" class=\"row_heading level0 row6\" >35-39</th>\n",
       "                        <td id=\"T_8e9ad14a_0df7_11eb_a1dd_84bad642171drow6_col0\" class=\"data row6 col0\" >41</td>\n",
       "                        <td id=\"T_8e9ad14a_0df7_11eb_a1dd_84bad642171drow6_col1\" class=\"data row6 col1\" >$3.60</td>\n",
       "                        <td id=\"T_8e9ad14a_0df7_11eb_a1dd_84bad642171drow6_col2\" class=\"data row6 col2\" >$147.67</td>\n",
       "                        <td id=\"T_8e9ad14a_0df7_11eb_a1dd_84bad642171drow6_col3\" class=\"data row6 col3\" >$4.76</td>\n",
       "            </tr>\n",
       "            <tr>\n",
       "                        <th id=\"T_8e9ad14a_0df7_11eb_a1dd_84bad642171dlevel0_row7\" class=\"row_heading level0 row7\" >40+</th>\n",
       "                        <td id=\"T_8e9ad14a_0df7_11eb_a1dd_84bad642171drow7_col0\" class=\"data row7 col0\" >13</td>\n",
       "                        <td id=\"T_8e9ad14a_0df7_11eb_a1dd_84bad642171drow7_col1\" class=\"data row7 col1\" >$2.94</td>\n",
       "                        <td id=\"T_8e9ad14a_0df7_11eb_a1dd_84bad642171drow7_col2\" class=\"data row7 col2\" >$38.24</td>\n",
       "                        <td id=\"T_8e9ad14a_0df7_11eb_a1dd_84bad642171drow7_col3\" class=\"data row7 col3\" >$3.19</td>\n",
       "            </tr>\n",
       "    </tbody></table>"
      ],
      "text/plain": [
       "<pandas.io.formats.style.Styler at 0x2b3f5af9310>"
      ]
     },
     "execution_count": 7,
     "metadata": {},
     "output_type": "execute_result"
    }
   ],
   "source": [
    "\n",
    "count1 = sum(age < 10 for age in purchase_data['Age'])\n",
    "count2 = sum((age >= 10) & (age <=14) for age in purchase_data['Age'])\n",
    "count3 = sum((age >= 15) & (age <=19) for age in purchase_data['Age'])\n",
    "count4 = sum((age >= 20) & (age <=24) for age in purchase_data['Age'])\n",
    "count5 = sum((age >= 25) & (age <=29) for age in purchase_data['Age'])\n",
    "count6 = sum((age >= 30) & (age <=34) for age in purchase_data['Age'])\n",
    "count7 = sum((age >= 35) & (age <=39) for age in purchase_data['Age'])\n",
    "count8 = sum(age >= 40 for age in purchase_data['Age'])\n",
    "\n",
    "count1_purchase_total = purchase_data.loc[purchase_data['Age'] < 10, 'Price'].sum()\n",
    "count2_purchase_total = purchase_data.loc[(purchase_data['Age'] >= 10) & (purchase_data['Age'] <=14), 'Price'].sum()\n",
    "count3_purchase_total = purchase_data.loc[(purchase_data['Age'] >= 15) & (purchase_data['Age'] <=19), 'Price'].sum()\n",
    "count4_purchase_total = purchase_data.loc[(purchase_data['Age'] >= 20) & (purchase_data['Age'] <=24), 'Price'].sum()\n",
    "count5_purchase_total = purchase_data.loc[(purchase_data['Age'] >= 25) & (purchase_data['Age'] <=29), 'Price'].sum()\n",
    "count6_purchase_total = purchase_data.loc[(purchase_data['Age'] >= 30) & (purchase_data['Age'] <=34), 'Price'].sum()\n",
    "count7_purchase_total = purchase_data.loc[(purchase_data['Age'] >= 35) & (purchase_data['Age'] <=39), 'Price'].sum()\n",
    "count8_purchase_total = purchase_data.loc[purchase_data['Age'] >= 40, 'Price'].sum()\n",
    "\n",
    "\n",
    "\n",
    "\n",
    "\n",
    "\n",
    "purchase_analysis_age = pd.DataFrame({'Age Ranges': group_names, \n",
    "                                      'Purchase Count': [count1, count2, count3, count4, count5, count6, count7, count8], \n",
    "                                      'Average Purchase Price': [count1_purchase_total/count1,\n",
    "                                                                 count2_purchase_total/count2, \n",
    "                                                                 count3_purchase_total/count3, \n",
    "                                                                 count4_purchase_total/count4, \n",
    "                                                                 count5_purchase_total/count5, \n",
    "                                                                 count6_purchase_total/count6, \n",
    "                                                                 count7_purchase_total/count7, \n",
    "                                                                 count8_purchase_total/count8],\n",
    "                                      'Total Purchase Value': [count1_purchase_total,\n",
    "                                                               count2_purchase_total, \n",
    "                                                               count3_purchase_total, \n",
    "                                                               count4_purchase_total, \n",
    "                                                               count5_purchase_total, \n",
    "                                                               count6_purchase_total, \n",
    "                                                               count7_purchase_total, \n",
    "                                                               count8_purchase_total],\n",
    "                                      'Avg Total Purchase per Person': [count1_purchase_total/count1_nodup,\n",
    "                                                                        count2_purchase_total/count2_nodup, \n",
    "                                                                        count3_purchase_total/count3_nodup, \n",
    "                                                                        count4_purchase_total/count4_nodup, \n",
    "                                                                        count5_purchase_total/count5_nodup, \n",
    "                                                                        count6_purchase_total/count6_nodup, \n",
    "                                                                        count7_purchase_total/count7_nodup, \n",
    "                                                                        count8_purchase_total/count8_nodup]})\n",
    "\n",
    "\n",
    "purchase_analysis_age.set_index('Age Ranges').style.format({'Average Purchase Price':'${0:,.2f}',\n",
    "                                                            'Total Purchase Value':'${0:,.2f}',\n",
    "                                                            'Avg Total Purchase per Person':'${0:,.2f}'})\n",
    "                                                            "
   ]
  },
  {
   "cell_type": "markdown",
   "metadata": {},
   "source": [
    "## Top Spenders"
   ]
  },
  {
   "cell_type": "markdown",
   "metadata": {},
   "source": [
    "* Run basic calculations to obtain the results in the table below\n",
    "\n",
    "\n",
    "* Create a summary data frame to hold the results\n",
    "\n",
    "\n",
    "* Sort the total purchase value column in descending order\n",
    "\n",
    "\n",
    "* Optional: give the displayed data cleaner formatting\n",
    "\n",
    "\n",
    "* Display a preview of the summary data frame\n",
    "\n"
   ]
  },
  {
   "cell_type": "code",
   "execution_count": 8,
   "metadata": {},
   "outputs": [
    {
     "data": {
      "text/html": [
       "<style  type=\"text/css\" >\n",
       "</style><table id=\"T_8f3910da_0df7_11eb_a7c1_84bad642171d\" ><thead>    <tr>        <th class=\"blank level0\" ></th>        <th class=\"col_heading level0 col0\" >Purchase Count</th>        <th class=\"col_heading level0 col1\" >Average Purchase Price</th>        <th class=\"col_heading level0 col2\" >Total Purchase Value</th>    </tr>    <tr>        <th class=\"index_name level0\" >SN</th>        <th class=\"blank\" ></th>        <th class=\"blank\" ></th>        <th class=\"blank\" ></th>    </tr></thead><tbody>\n",
       "                <tr>\n",
       "                        <th id=\"T_8f3910da_0df7_11eb_a7c1_84bad642171dlevel0_row0\" class=\"row_heading level0 row0\" >Lisosia93</th>\n",
       "                        <td id=\"T_8f3910da_0df7_11eb_a7c1_84bad642171drow0_col0\" class=\"data row0 col0\" >5</td>\n",
       "                        <td id=\"T_8f3910da_0df7_11eb_a7c1_84bad642171drow0_col1\" class=\"data row0 col1\" >$3.79</td>\n",
       "                        <td id=\"T_8f3910da_0df7_11eb_a7c1_84bad642171drow0_col2\" class=\"data row0 col2\" >$18.96</td>\n",
       "            </tr>\n",
       "            <tr>\n",
       "                        <th id=\"T_8f3910da_0df7_11eb_a7c1_84bad642171dlevel0_row1\" class=\"row_heading level0 row1\" >Iral74</th>\n",
       "                        <td id=\"T_8f3910da_0df7_11eb_a7c1_84bad642171drow1_col0\" class=\"data row1 col0\" >4</td>\n",
       "                        <td id=\"T_8f3910da_0df7_11eb_a7c1_84bad642171drow1_col1\" class=\"data row1 col1\" >$3.40</td>\n",
       "                        <td id=\"T_8f3910da_0df7_11eb_a7c1_84bad642171drow1_col2\" class=\"data row1 col2\" >$13.62</td>\n",
       "            </tr>\n",
       "            <tr>\n",
       "                        <th id=\"T_8f3910da_0df7_11eb_a7c1_84bad642171dlevel0_row2\" class=\"row_heading level0 row2\" >Aina42</th>\n",
       "                        <td id=\"T_8f3910da_0df7_11eb_a7c1_84bad642171drow2_col0\" class=\"data row2 col0\" >3</td>\n",
       "                        <td id=\"T_8f3910da_0df7_11eb_a7c1_84bad642171drow2_col1\" class=\"data row2 col1\" >$3.07</td>\n",
       "                        <td id=\"T_8f3910da_0df7_11eb_a7c1_84bad642171drow2_col2\" class=\"data row2 col2\" >$9.22</td>\n",
       "            </tr>\n",
       "            <tr>\n",
       "                        <th id=\"T_8f3910da_0df7_11eb_a7c1_84bad642171dlevel0_row3\" class=\"row_heading level0 row3\" >Idastidru52</th>\n",
       "                        <td id=\"T_8f3910da_0df7_11eb_a7c1_84bad642171drow3_col0\" class=\"data row3 col0\" >4</td>\n",
       "                        <td id=\"T_8f3910da_0df7_11eb_a7c1_84bad642171drow3_col1\" class=\"data row3 col1\" >$3.86</td>\n",
       "                        <td id=\"T_8f3910da_0df7_11eb_a7c1_84bad642171drow3_col2\" class=\"data row3 col2\" >$15.45</td>\n",
       "            </tr>\n",
       "            <tr>\n",
       "                        <th id=\"T_8f3910da_0df7_11eb_a7c1_84bad642171dlevel0_row4\" class=\"row_heading level0 row4\" >Iri67</th>\n",
       "                        <td id=\"T_8f3910da_0df7_11eb_a7c1_84bad642171drow4_col0\" class=\"data row4 col0\" >3</td>\n",
       "                        <td id=\"T_8f3910da_0df7_11eb_a7c1_84bad642171drow4_col1\" class=\"data row4 col1\" >$3.79</td>\n",
       "                        <td id=\"T_8f3910da_0df7_11eb_a7c1_84bad642171drow4_col2\" class=\"data row4 col2\" >$11.37</td>\n",
       "            </tr>\n",
       "    </tbody></table>"
      ],
      "text/plain": [
       "<pandas.io.formats.style.Styler at 0x2b3f5af1cd0>"
      ]
     },
     "execution_count": 8,
     "metadata": {},
     "output_type": "execute_result"
    }
   ],
   "source": [
    "tot_freq = purchase_data['SN'].value_counts().head(30)\n",
    "freq_names = tot_freq.index.tolist()\n",
    "\n",
    "\n",
    "top_spend1 = purchase_data.loc[purchase_data['SN'] == freq_names[0], 'Price'].sum()\n",
    "top_spend2 = purchase_data.loc[purchase_data['SN'] == freq_names[1], 'Price'].sum()\n",
    "top_spend3 = purchase_data.loc[purchase_data['SN'] == freq_names[22], 'Price'].sum()\n",
    "top_spend4 = purchase_data.loc[purchase_data['SN'] == freq_names[2], 'Price'].sum()\n",
    "top_spend5 = purchase_data.loc[purchase_data['SN'] == freq_names[21], 'Price'].sum()\n",
    "\n",
    "top_count1 = len(purchase_data.loc[purchase_data['SN'] == freq_names[0], 'Price'])\n",
    "top_count2 = len(purchase_data.loc[purchase_data['SN'] == freq_names[1], 'Price'])\n",
    "top_count3 = len(purchase_data.loc[purchase_data['SN'] == freq_names[22], 'Price'])\n",
    "top_count4 = len(purchase_data.loc[purchase_data['SN'] == freq_names[2], 'Price'])\n",
    "top_count5 = len(purchase_data.loc[purchase_data['SN'] == freq_names[21], 'Price'])\n",
    "\n",
    "avg_top_spend1 = top_spend1 / top_count1\n",
    "avg_top_spend2 = top_spend2 / top_count2\n",
    "avg_top_spend3 = top_spend3 / top_count3\n",
    "avg_top_spend4 = top_spend4 / top_count4\n",
    "avg_top_spend5 = top_spend5 / top_count5\n",
    "\n",
    "top_spenders = pd.DataFrame({'SN': [freq_names[0], freq_names[1], freq_names[22], freq_names[2], freq_names[21]],\n",
    "                             'Purchase Count': [top_count1, top_count2, top_count3, top_count4, top_count5],\n",
    "                             'Average Purchase Price': [avg_top_spend1, avg_top_spend2, avg_top_spend3, avg_top_spend4, avg_top_spend5],\n",
    "                             'Total Purchase Value': [top_spend1, top_spend2, top_spend3, top_spend4, top_spend5]})\n",
    "\n",
    "top_spenders.set_index('SN').style.format({'Average Purchase Price':'${0:,.2f}',\n",
    "                                           'Total Purchase Value':'${0:,.2f}'})\n"
   ]
  },
  {
   "cell_type": "markdown",
   "metadata": {},
   "source": [
    "## Most Popular Items"
   ]
  },
  {
   "cell_type": "markdown",
   "metadata": {},
   "source": [
    "* Retrieve the Item ID, Item Name, and Item Price columns\n",
    "\n",
    "\n",
    "* Group by Item ID and Item Name. Perform calculations to obtain purchase count, average item price, and total purchase value\n",
    "\n",
    "\n",
    "* Create a summary data frame to hold the results\n",
    "\n",
    "\n",
    "* Sort the purchase count column in descending order\n",
    "\n",
    "\n",
    "* Optional: give the displayed data cleaner formatting\n",
    "\n",
    "\n",
    "* Display a preview of the summary data frame\n",
    "\n"
   ]
  },
  {
   "cell_type": "code",
   "execution_count": 9,
   "metadata": {},
   "outputs": [
    {
     "data": {
      "text/html": [
       "<style  type=\"text/css\" >\n",
       "</style><table id=\"T_8fc18ca0_0df7_11eb_b48e_84bad642171d\" ><thead>    <tr>        <th class=\"blank level0\" ></th>        <th class=\"col_heading level0 col0\" >Item Name</th>        <th class=\"col_heading level0 col1\" >Purchase Count</th>        <th class=\"col_heading level0 col2\" >Item Price</th>        <th class=\"col_heading level0 col3\" >Total Purchase Value</th>    </tr>    <tr>        <th class=\"index_name level0\" >Item ID</th>        <th class=\"blank\" ></th>        <th class=\"blank\" ></th>        <th class=\"blank\" ></th>        <th class=\"blank\" ></th>    </tr></thead><tbody>\n",
       "                <tr>\n",
       "                        <th id=\"T_8fc18ca0_0df7_11eb_b48e_84bad642171dlevel0_row0\" class=\"row_heading level0 row0\" >92</th>\n",
       "                        <td id=\"T_8fc18ca0_0df7_11eb_b48e_84bad642171drow0_col0\" class=\"data row0 col0\" >Final Critic</td>\n",
       "                        <td id=\"T_8fc18ca0_0df7_11eb_b48e_84bad642171drow0_col1\" class=\"data row0 col1\" >13</td>\n",
       "                        <td id=\"T_8fc18ca0_0df7_11eb_b48e_84bad642171drow0_col2\" class=\"data row0 col2\" >$4.61</td>\n",
       "                        <td id=\"T_8fc18ca0_0df7_11eb_b48e_84bad642171drow0_col3\" class=\"data row0 col3\" >$59.99</td>\n",
       "            </tr>\n",
       "            <tr>\n",
       "                        <th id=\"T_8fc18ca0_0df7_11eb_b48e_84bad642171dlevel0_row1\" class=\"row_heading level0 row1\" >178</th>\n",
       "                        <td id=\"T_8fc18ca0_0df7_11eb_b48e_84bad642171drow1_col0\" class=\"data row1 col0\" >Oathbreaker, Last Hope of the Breaking Storm</td>\n",
       "                        <td id=\"T_8fc18ca0_0df7_11eb_b48e_84bad642171drow1_col1\" class=\"data row1 col1\" >12</td>\n",
       "                        <td id=\"T_8fc18ca0_0df7_11eb_b48e_84bad642171drow1_col2\" class=\"data row1 col2\" >$4.23</td>\n",
       "                        <td id=\"T_8fc18ca0_0df7_11eb_b48e_84bad642171drow1_col3\" class=\"data row1 col3\" >$50.76</td>\n",
       "            </tr>\n",
       "            <tr>\n",
       "                        <th id=\"T_8fc18ca0_0df7_11eb_b48e_84bad642171dlevel0_row2\" class=\"row_heading level0 row2\" >145</th>\n",
       "                        <td id=\"T_8fc18ca0_0df7_11eb_b48e_84bad642171drow2_col0\" class=\"data row2 col0\" >Fiery Glass Crusader</td>\n",
       "                        <td id=\"T_8fc18ca0_0df7_11eb_b48e_84bad642171drow2_col1\" class=\"data row2 col1\" >9</td>\n",
       "                        <td id=\"T_8fc18ca0_0df7_11eb_b48e_84bad642171drow2_col2\" class=\"data row2 col2\" >$4.58</td>\n",
       "                        <td id=\"T_8fc18ca0_0df7_11eb_b48e_84bad642171drow2_col3\" class=\"data row2 col3\" >$41.22</td>\n",
       "            </tr>\n",
       "            <tr>\n",
       "                        <th id=\"T_8fc18ca0_0df7_11eb_b48e_84bad642171dlevel0_row3\" class=\"row_heading level0 row3\" >132</th>\n",
       "                        <td id=\"T_8fc18ca0_0df7_11eb_b48e_84bad642171drow3_col0\" class=\"data row3 col0\" >Persuasion</td>\n",
       "                        <td id=\"T_8fc18ca0_0df7_11eb_b48e_84bad642171drow3_col1\" class=\"data row3 col1\" >9</td>\n",
       "                        <td id=\"T_8fc18ca0_0df7_11eb_b48e_84bad642171drow3_col2\" class=\"data row3 col2\" >$3.22</td>\n",
       "                        <td id=\"T_8fc18ca0_0df7_11eb_b48e_84bad642171drow3_col3\" class=\"data row3 col3\" >$28.99</td>\n",
       "            </tr>\n",
       "            <tr>\n",
       "                        <th id=\"T_8fc18ca0_0df7_11eb_b48e_84bad642171dlevel0_row4\" class=\"row_heading level0 row4\" >108</th>\n",
       "                        <td id=\"T_8fc18ca0_0df7_11eb_b48e_84bad642171drow4_col0\" class=\"data row4 col0\" >Extraction, Quickblade Of Trembling Hands</td>\n",
       "                        <td id=\"T_8fc18ca0_0df7_11eb_b48e_84bad642171drow4_col1\" class=\"data row4 col1\" >9</td>\n",
       "                        <td id=\"T_8fc18ca0_0df7_11eb_b48e_84bad642171drow4_col2\" class=\"data row4 col2\" >$3.53</td>\n",
       "                        <td id=\"T_8fc18ca0_0df7_11eb_b48e_84bad642171drow4_col3\" class=\"data row4 col3\" >$31.77</td>\n",
       "            </tr>\n",
       "    </tbody></table>"
      ],
      "text/plain": [
       "<pandas.io.formats.style.Styler at 0x2b3f5b1de50>"
      ]
     },
     "execution_count": 9,
     "metadata": {},
     "output_type": "execute_result"
    }
   ],
   "source": [
    "most_pop = purchase_data['Item ID'].value_counts().head(6)\n",
    "most_pop_list = most_pop.index.tolist()\n",
    "\n",
    "most_count1 = len(purchase_data.loc[purchase_data['Item ID'] == most_pop_list[0], 'Price'])\n",
    "most_count2 = len(purchase_data.loc[purchase_data['Item ID'] == most_pop_list[1], 'Price'])\n",
    "most_count3 = len(purchase_data.loc[purchase_data['Item ID'] == most_pop_list[5], 'Price'])\n",
    "most_count4 = len(purchase_data.loc[purchase_data['Item ID'] == most_pop_list[3], 'Price'])\n",
    "most_count5 = len(purchase_data.loc[purchase_data['Item ID'] == most_pop_list[2], 'Price'])\n",
    "\n",
    "most_count1_total = purchase_data.loc[purchase_data['Item ID'] == most_pop_list[0], 'Price'].sum()\n",
    "most_count2_total = purchase_data.loc[purchase_data['Item ID'] == most_pop_list[1], 'Price'].sum()\n",
    "most_count3_total = purchase_data.loc[purchase_data['Item ID'] == most_pop_list[5], 'Price'].sum()\n",
    "most_count4_total = purchase_data.loc[purchase_data['Item ID'] == most_pop_list[3], 'Price'].sum()\n",
    "most_count5_total = purchase_data.loc[purchase_data['Item ID'] == most_pop_list[2], 'Price'].sum()\n",
    "\n",
    "most_count1_item_price = most_count1_total / most_count1\n",
    "most_count2_item_price = most_count2_total / most_count2\n",
    "most_count3_item_price = most_count3_total / most_count3\n",
    "most_count4_item_price = most_count4_total / most_count4\n",
    "most_count5_item_price = most_count5_total / most_count5\n",
    "\n",
    "\n",
    "\n",
    "most_popular_items = pd.DataFrame({'Item ID': [most_pop_list[0], most_pop_list[1], most_pop_list[5], most_pop_list[3], most_pop_list[2]],\n",
    "                             'Item Name': [purchase_data.loc[purchase_data['Item ID'] == most_pop_list[0], 'Item Name'].iloc[0], purchase_data.loc[purchase_data['Item ID'] == most_pop_list[1], 'Item Name'].iloc[0], purchase_data.loc[purchase_data['Item ID'] == most_pop_list[5], 'Item Name'].iloc[0], purchase_data.loc[purchase_data['Item ID'] == most_pop_list[3], 'Item Name'].iloc[0], purchase_data.loc[purchase_data['Item ID'] == most_pop_list[2], 'Item Name'].iloc[0]],\n",
    "                             'Purchase Count': [most_count1, most_count2, most_count3, most_count4, most_count5],\n",
    "                             'Item Price': [most_count1_item_price, most_count2_item_price, most_count3_item_price, most_count4_item_price, most_count5_item_price],\n",
    "                             'Total Purchase Value': [most_count1_total, most_count2_total, most_count3_total, most_count4_total, most_count5_total]})\n",
    "\n",
    "most_popular_items.set_index('Item ID').style.format({'Item Price':'${0:,.2f}',\n",
    "                                           'Total Purchase Value':'${0:,.2f}'})"
   ]
  },
  {
   "cell_type": "markdown",
   "metadata": {},
   "source": [
    "## Most Profitable Items"
   ]
  },
  {
   "cell_type": "markdown",
   "metadata": {},
   "source": [
    "* Sort the above table by total purchase value in descending order\n",
    "\n",
    "\n",
    "* Optional: give the displayed data cleaner formatting\n",
    "\n",
    "\n",
    "* Display a preview of the data frame\n",
    "\n"
   ]
  },
  {
   "cell_type": "code",
   "execution_count": 10,
   "metadata": {
    "scrolled": true
   },
   "outputs": [
    {
     "data": {
      "text/html": [
       "<style  type=\"text/css\" >\n",
       "</style><table id=\"T_906aadab_0df7_11eb_9889_84bad642171d\" ><thead>    <tr>        <th class=\"blank level0\" ></th>        <th class=\"col_heading level0 col0\" >Item Name</th>        <th class=\"col_heading level0 col1\" >Purchase Count</th>        <th class=\"col_heading level0 col2\" >Item Price</th>        <th class=\"col_heading level0 col3\" >Total Purchase Value</th>    </tr>    <tr>        <th class=\"index_name level0\" >Item ID</th>        <th class=\"blank\" ></th>        <th class=\"blank\" ></th>        <th class=\"blank\" ></th>        <th class=\"blank\" ></th>    </tr></thead><tbody>\n",
       "                <tr>\n",
       "                        <th id=\"T_906aadab_0df7_11eb_9889_84bad642171dlevel0_row0\" class=\"row_heading level0 row0\" >92</th>\n",
       "                        <td id=\"T_906aadab_0df7_11eb_9889_84bad642171drow0_col0\" class=\"data row0 col0\" >Final Critic</td>\n",
       "                        <td id=\"T_906aadab_0df7_11eb_9889_84bad642171drow0_col1\" class=\"data row0 col1\" >13</td>\n",
       "                        <td id=\"T_906aadab_0df7_11eb_9889_84bad642171drow0_col2\" class=\"data row0 col2\" >$4.61</td>\n",
       "                        <td id=\"T_906aadab_0df7_11eb_9889_84bad642171drow0_col3\" class=\"data row0 col3\" >$59.99</td>\n",
       "            </tr>\n",
       "            <tr>\n",
       "                        <th id=\"T_906aadab_0df7_11eb_9889_84bad642171dlevel0_row1\" class=\"row_heading level0 row1\" >178</th>\n",
       "                        <td id=\"T_906aadab_0df7_11eb_9889_84bad642171drow1_col0\" class=\"data row1 col0\" >Oathbreaker, Last Hope of the Breaking Storm</td>\n",
       "                        <td id=\"T_906aadab_0df7_11eb_9889_84bad642171drow1_col1\" class=\"data row1 col1\" >12</td>\n",
       "                        <td id=\"T_906aadab_0df7_11eb_9889_84bad642171drow1_col2\" class=\"data row1 col2\" >$4.23</td>\n",
       "                        <td id=\"T_906aadab_0df7_11eb_9889_84bad642171drow1_col3\" class=\"data row1 col3\" >$50.76</td>\n",
       "            </tr>\n",
       "            <tr>\n",
       "                        <th id=\"T_906aadab_0df7_11eb_9889_84bad642171dlevel0_row2\" class=\"row_heading level0 row2\" >82</th>\n",
       "                        <td id=\"T_906aadab_0df7_11eb_9889_84bad642171drow2_col0\" class=\"data row2 col0\" >Nirvana</td>\n",
       "                        <td id=\"T_906aadab_0df7_11eb_9889_84bad642171drow2_col1\" class=\"data row2 col1\" >9</td>\n",
       "                        <td id=\"T_906aadab_0df7_11eb_9889_84bad642171drow2_col2\" class=\"data row2 col2\" >$4.90</td>\n",
       "                        <td id=\"T_906aadab_0df7_11eb_9889_84bad642171drow2_col3\" class=\"data row2 col3\" >$44.10</td>\n",
       "            </tr>\n",
       "            <tr>\n",
       "                        <th id=\"T_906aadab_0df7_11eb_9889_84bad642171dlevel0_row3\" class=\"row_heading level0 row3\" >145</th>\n",
       "                        <td id=\"T_906aadab_0df7_11eb_9889_84bad642171drow3_col0\" class=\"data row3 col0\" >Fiery Glass Crusader</td>\n",
       "                        <td id=\"T_906aadab_0df7_11eb_9889_84bad642171drow3_col1\" class=\"data row3 col1\" >9</td>\n",
       "                        <td id=\"T_906aadab_0df7_11eb_9889_84bad642171drow3_col2\" class=\"data row3 col2\" >$4.58</td>\n",
       "                        <td id=\"T_906aadab_0df7_11eb_9889_84bad642171drow3_col3\" class=\"data row3 col3\" >$41.22</td>\n",
       "            </tr>\n",
       "            <tr>\n",
       "                        <th id=\"T_906aadab_0df7_11eb_9889_84bad642171dlevel0_row4\" class=\"row_heading level0 row4\" >103</th>\n",
       "                        <td id=\"T_906aadab_0df7_11eb_9889_84bad642171drow4_col0\" class=\"data row4 col0\" >Singed Scalpel</td>\n",
       "                        <td id=\"T_906aadab_0df7_11eb_9889_84bad642171drow4_col1\" class=\"data row4 col1\" >8</td>\n",
       "                        <td id=\"T_906aadab_0df7_11eb_9889_84bad642171drow4_col2\" class=\"data row4 col2\" >$4.35</td>\n",
       "                        <td id=\"T_906aadab_0df7_11eb_9889_84bad642171drow4_col3\" class=\"data row4 col3\" >$34.80</td>\n",
       "            </tr>\n",
       "    </tbody></table>"
      ],
      "text/plain": [
       "<pandas.io.formats.style.Styler at 0x2b3f596cb50>"
      ]
     },
     "execution_count": 10,
     "metadata": {},
     "output_type": "execute_result"
    }
   ],
   "source": [
    "\n",
    "most_profit = purchase_data['Item ID'].value_counts()\n",
    "most_profit_name_list = most_profit.index.tolist()\n",
    "most_profit_list = purchase_data['Item ID'].value_counts()\n",
    "\n",
    "\n",
    "most_purchase_count = purchase_data['Item ID'].value_counts()\n",
    "\n",
    "sum_total =  purchase_data.groupby(['Item ID', 'Item Name']).sum()\n",
    "\n",
    "sum_total_df = sum_total.sort_values(by = ['Price'], ascending = False).drop(columns=['Purchase ID', 'Age','Total Players'])\n",
    "\n",
    "sum_total_df.head()\n",
    "\n",
    "most_profitable_items = pd.DataFrame({\"Item ID\": [most_profit_name_list[0],\n",
    "                                                  most_profit_name_list[1],\n",
    "                                                  most_profit_name_list[4],\n",
    "                                                  most_profit_name_list[5],\n",
    "                                                  most_profit_name_list[12]],\n",
    "                       \"Item Name\": ['Final Critic',\n",
    "                                     'Oathbreaker, Last Hope of the Breaking Storm',\n",
    "                                     'Nirvana',\n",
    "                                     'Fiery Glass Crusader',\n",
    "                                     'Singed Scalpel'],\n",
    "                       \"Purchase Count\": [most_purchase_count[92], \n",
    "                                          most_purchase_count[178], \n",
    "                                          most_purchase_count[82], \n",
    "                                          most_purchase_count[145], \n",
    "                                          most_purchase_count[103]],\n",
    "                       \"Item Price\":[purchase_data.loc[purchase_data['Item ID'] == 92, 'Price'].sum() / most_purchase_count[92],\n",
    "                                     purchase_data.loc[purchase_data['Item ID'] == 178, 'Price'].sum() / most_purchase_count[178],\n",
    "                                     purchase_data.loc[purchase_data['Item ID'] == 82, 'Price'].sum() / most_purchase_count[82],\n",
    "                                     purchase_data.loc[purchase_data['Item ID'] == 145, 'Price'].sum() / most_purchase_count[145],\n",
    "                                     purchase_data.loc[purchase_data['Item ID'] == 103, 'Price'].sum() / most_purchase_count[103]],\n",
    "                       \"Total Purchase Value\":[purchase_data.loc[purchase_data['Item ID'] == 92, 'Price'].sum(),\n",
    "                                               purchase_data.loc[purchase_data['Item ID'] == 178, 'Price'].sum(),\n",
    "                                               purchase_data.loc[purchase_data['Item ID'] == 82, 'Price'].sum(),\n",
    "                                               purchase_data.loc[purchase_data['Item ID'] == 145, 'Price'].sum(),\n",
    "                                               purchase_data.loc[purchase_data['Item ID'] == 103, 'Price'].sum()]})\n",
    "\n",
    "most_profitable_items.set_index('Item ID').style.format({'Item Price':'${0:,.2f}',\n",
    "                                           'Total Purchase Value':'${0:,.2f}'})\n"
   ]
  },
  {
   "cell_type": "code",
   "execution_count": 16,
   "metadata": {},
   "outputs": [
    {
     "name": "stdout",
     "output_type": "stream",
     "text": [
      "Most of the players that play this game and the majority of the purchases came from the age range of 20-24 years old.\n",
      "Majority of those purchases coming from male users. \n",
      " \n",
      "The most popular item just so happens to be the most expensive, therefore the most profitable.\n",
      "\n",
      "It seems as if the more popular items are the most profitable with a couple of small exceptions.\n"
     ]
    }
   ],
   "source": [
    "print('Most of the players that play this game and the majority of the purchases came from the age range of 20-24 years old.\\nMajority of those purchases coming from male users. \\n ')\n",
    "print('The most popular item just so happens to be the most expensive, therefore the most profitable.\\n')\n",
    "print('It seems as if the more popular items are the most profitable with a couple of small exceptions.' )"
   ]
  },
  {
   "cell_type": "code",
   "execution_count": null,
   "metadata": {},
   "outputs": [],
   "source": []
  },
  {
   "cell_type": "code",
   "execution_count": null,
   "metadata": {},
   "outputs": [],
   "source": []
  }
 ],
 "metadata": {
  "anaconda-cloud": {},
  "kernel_info": {
   "name": "python3"
  },
  "kernelspec": {
   "display_name": "Python 3",
   "language": "python",
   "name": "python3"
  },
  "language_info": {
   "codemirror_mode": {
    "name": "ipython",
    "version": 3
   },
   "file_extension": ".py",
   "mimetype": "text/x-python",
   "name": "python",
   "nbconvert_exporter": "python",
   "pygments_lexer": "ipython3",
   "version": "3.8.3"
  },
  "latex_envs": {
   "LaTeX_envs_menu_present": true,
   "autoclose": false,
   "autocomplete": true,
   "bibliofile": "biblio.bib",
   "cite_by": "apalike",
   "current_citInitial": 1,
   "eqLabelWithNumbers": true,
   "eqNumInitial": 1,
   "hotkeys": {
    "equation": "Ctrl-E",
    "itemize": "Ctrl-I"
   },
   "labels_anchors": false,
   "latex_user_defs": false,
   "report_style_numbering": false,
   "user_envs_cfg": false
  },
  "nteract": {
   "version": "0.2.0"
  }
 },
 "nbformat": 4,
 "nbformat_minor": 2
}
